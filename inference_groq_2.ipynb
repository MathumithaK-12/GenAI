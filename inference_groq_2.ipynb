#In Colab cell 1 - use getpass to get the Groq API key manually at runtime
import os

from getpass import getpass

# Set it manually in a cell (this won't be saved if you don't hardcode it)
os.environ["GROQ_API_KEY"] = getpass("Enter your Groq API key: ")


#In Colab cell 2 - install groq SDK
!pip install groq


#In Colab cell 3 - main code to run the prompt 
from groq import Groq

groq_api_key = os.getenv("GROQ_API_KEY")

client = Groq(api_key=groq_api_key)

response = client.chat.completions.create(
    model="meta-llama/llama-4-scout-17b-16e-instruct",
    messages=[
        {"role": "user", "content": "Write a user requirement for password reset."}
    ],
    temperature=0.7,
)

print(response.choices[0].message.content)



