# 🧪 Install dependencies
!pip install faker pandas

# ✅ Import libraries
import pandas as pd
import random
from faker import Faker
from datetime import timedelta

# ✅ Initialize Faker
fake = Faker()

# ✅ Predefined known and unknown errors
known_errors = [
    "Printer Out of Paper",
    "CMS API Timeout",
    "Container ID Missing",
    "Label Format Corrupt",
    "Low Ink Detected"
]

unknown_errors = [
    "Unknown Status Code 521",
    "Unhandled Exception: NullReference",
    "HTTP 504 Gateway Timeout",
    "Unrecognized Container Tag",
    "Socket Read Error"
]

# ✅ Helper: Generate custom order/container IDs
def generate_order_id():
    return f"ORD{random.randint(10000,99999)}"

def generate_container_id():
    return f"CONT{random.randint(10000,99999)}"

# ✅ Generate synthetic records
records = []
start_time = fake.date_time_this_month()

for _ in range(500):
    order_id = generate_order_id()
    container_id = generate_container_id()
    timestamp = start_time + timedelta(minutes=random.randint(1, 10000))

    # Randomly assign Success or Error
    cms_response = random.choices(["Success", "Error"], weights=[0.4, 0.6])[0]

    if cms_response == "Success":
        error_reason = ""
    else:
        error_type = random.choices(["known", "unknown"], weights=[0.7, 0.3])[0]
        if error_type == "known":
            error_reason = random.choice(known_errors)
        else:
            error_reason = random.choice(unknown_errors)

    records.append({
        "order_id": order_id,
        "container_id": container_id,
        "timestamp": timestamp.strftime("%Y-%m-%d %H:%M:%S"),
        "cms_response": cms_response,
        "error_reason": error_reason
    })

# ✅ Create DataFrame and save
df = pd.DataFrame(records)
df.to_csv("synthetic_itsm_data.csv", index=False)
print("✅ Synthetic ITSM data saved to 'synthetic_itsm_data.csv'")
df.head()
